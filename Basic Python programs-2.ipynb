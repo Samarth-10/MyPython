{
 "cells": [
  {
   "cell_type": "markdown",
   "id": "0bd5a68e",
   "metadata": {},
   "source": [
    "## To rotate the desired number of elements in an array"
   ]
  },
  {
   "cell_type": "code",
   "execution_count": 12,
   "id": "0518742b",
   "metadata": {},
   "outputs": [
    {
     "name": "stdout",
     "output_type": "stream",
     "text": [
      "[1, 2, 3, 4, 5]\n",
      "Enter the number of elements to be splitted and rotated: 2\n",
      "temp=> [1, 2]\n",
      "[3, 4, 5, 1, 2]\n"
     ]
    }
   ],
   "source": [
    "def rotate(arr,d,n):\n",
    "    temp=[]\n",
    "    for i in range(0,d):\n",
    "        temp.append(arr[i])\n",
    "    print(\"temp=>\",temp)\n",
    "    g=0\n",
    "    h=d\n",
    "    for i in range(h,n):\n",
    "        arr[g]=arr[h]\n",
    "        g=g+1\n",
    "        h=h+1\n",
    "#     print(arr)\n",
    "    for i in range(0,d):\n",
    "        del arr[-1]\n",
    "    print(arr+temp)\n",
    "arr=[1,2,3,4,5]\n",
    "print(arr)\n",
    "d=int(input(\"Enter the number of elements to be splitted and rotated: \"))\n",
    "rotate(arr,d,len(arr))"
   ]
  },
  {
   "cell_type": "markdown",
   "id": "351c21c0",
   "metadata": {},
   "source": [
    "## To split the given array"
   ]
  },
  {
   "cell_type": "code",
   "execution_count": 24,
   "id": "1baf0339",
   "metadata": {},
   "outputs": [
    {
     "name": "stdout",
     "output_type": "stream",
     "text": [
      "The array is:  [1, 2, 3, 4, 5, 6, 7, 8, 9, 10, 11, 12]\n",
      "The array after splitting is: first-> [1, 2, 3, 4, 5, 6] second->[7, 8, 9, 10, 11, 12] \n"
     ]
    }
   ],
   "source": [
    "arr=[1,2,3,4,5,6,7,8,9,10,11,12]\n",
    "def split(arr):\n",
    "    n=len(arr)/2\n",
    "    p=0\n",
    "    temp1=[]\n",
    "    temp2=[]\n",
    "    if(len(arr)%2==0):\n",
    "        for i in range(0,len(arr)):\n",
    "            if(p<n):\n",
    "                temp1.append(arr[i])\n",
    "                p=p+1\n",
    "            else:\n",
    "                temp2.append(arr[i])\n",
    "        return temp1,temp2\n",
    "    else:\n",
    "        for i in range(0,len(arr)):\n",
    "            if(p<n-1):\n",
    "                temp1.append(arr[i])\n",
    "                p=p+1\n",
    "            else:\n",
    "                temp2.append(arr[i])\n",
    "        return temp1,temp2\n",
    "print(\"The array is: \",arr)\n",
    "a,b=split(arr)\n",
    "print(\"The array after splitting is: first-> {} second->{} \".format(a,b))"
   ]
  },
  {
   "cell_type": "markdown",
   "id": "7f8b41ac",
   "metadata": {},
   "source": [
    "## To swap first and last element of an array"
   ]
  },
  {
   "cell_type": "markdown",
   "id": "b1527188",
   "metadata": {},
   "source": []
  },
  {
   "cell_type": "code",
   "execution_count": 3,
   "id": "b887363a",
   "metadata": {},
   "outputs": [
    {
     "name": "stdout",
     "output_type": "stream",
     "text": [
      "Original array is:  [1, 2, 3, 4, 5, 6, 12]\n",
      "Array after swapping is:  [12, 2, 3, 4, 5, 6, 1]\n"
     ]
    }
   ],
   "source": [
    "def swap(arr):\n",
    "    temp=arr[0]\n",
    "    arr[0]=arr[-1]\n",
    "    arr[-1]=temp\n",
    "    return arr\n",
    "arr=[1,2,3,4,5,6,12]\n",
    "print(\"Original array is: \",arr)\n",
    "arr1=swap(arr)\n",
    "print(\"Array after swapping is: \",arr1)"
   ]
  },
  {
   "cell_type": "markdown",
   "id": "59b970d9",
   "metadata": {},
   "source": [
    "## To swap the numbers given their index from user"
   ]
  },
  {
   "cell_type": "code",
   "execution_count": 7,
   "id": "e7c6b072",
   "metadata": {},
   "outputs": [
    {
     "name": "stdout",
     "output_type": "stream",
     "text": [
      "The original array is:  [31, 5, 8, 11, 14, 3, 17, 25, 42]\n",
      "Enter the position of element to be swapped: 3\n",
      "Enter the position of element to be swapped with: 6\n",
      "Element after swapping are:  [31, 5, 3, 11, 14, 8, 17, 25, 42]\n"
     ]
    }
   ],
   "source": [
    "def swap_element(arr2,first_element,second_element):\n",
    "    temp=arr2[first_element-1]\n",
    "    arr2[first_element-1]=arr2[second_element-1]\n",
    "    arr2[second_element-1]=temp\n",
    "    return arr2\n",
    "arr1=[31,5,8,11,14,3,17,25,42]\n",
    "print(\"The original array is: \",arr1)\n",
    "a=int(input(\"Enter the position of element to be swapped: \"))\n",
    "b=int(input(\"Enter the position of element to be swapped with: \"))\n",
    "arr3=swap_element(arr1,a,b)\n",
    "print(\"Element after swapping are: \",arr3)"
   ]
  },
  {
   "cell_type": "markdown",
   "id": "ff4984bc",
   "metadata": {},
   "source": [
    "## To check if an element is present in a list or not"
   ]
  },
  {
   "cell_type": "markdown",
   "id": "6e18d416",
   "metadata": {},
   "source": [
    "def check(arr,a):\n",
    "    print(a)\n",
    "    if(a in arr):\n",
    "        return 1\n",
    "    else:\n",
    "        return 0\n",
    "arr=[32,54,77,31,21,14,94,67,35,64,41,84,37,95,55]\n",
    "element=int(input(\"Enter the element to be checked: \"))\n",
    "condition=check(arr,element)\n",
    "if(condition==1):\n",
    "    print(\"The element is present\")\n",
    "else:\n",
    "    print(\"The element is not present\")"
   ]
  },
  {
   "cell_type": "markdown",
   "id": "cb7af777",
   "metadata": {},
   "source": [
    "## To reverse an array"
   ]
  },
  {
   "cell_type": "code",
   "execution_count": 21,
   "id": "2d02f1c0",
   "metadata": {},
   "outputs": [
    {
     "name": "stdout",
     "output_type": "stream",
     "text": [
      "[5, 4, 3, 2, 1]\n"
     ]
    }
   ],
   "source": [
    "arr=[1,2,3,4,5]\n",
    "print(arr[::-1])"
   ]
  },
  {
   "cell_type": "code",
   "execution_count": null,
   "id": "6ef71b89",
   "metadata": {},
   "outputs": [],
   "source": []
  },
  {
   "cell_type": "markdown",
   "id": "03369f13",
   "metadata": {},
   "source": [
    "## To find sum and product of all elements of a list"
   ]
  },
  {
   "cell_type": "code",
   "execution_count": 22,
   "id": "13362431",
   "metadata": {},
   "outputs": [
    {
     "data": {
      "text/plain": [
       "15"
      ]
     },
     "execution_count": 22,
     "metadata": {},
     "output_type": "execute_result"
    }
   ],
   "source": [
    "sum(arr)"
   ]
  },
  {
   "cell_type": "code",
   "execution_count": 26,
   "id": "caa9436d",
   "metadata": {},
   "outputs": [
    {
     "data": {
      "text/plain": [
       "120"
      ]
     },
     "execution_count": 26,
     "metadata": {},
     "output_type": "execute_result"
    }
   ],
   "source": [
    "import numpy as np\n",
    "np.prod(arr)"
   ]
  },
  {
   "cell_type": "code",
   "execution_count": 27,
   "id": "e6b5c737",
   "metadata": {},
   "outputs": [
    {
     "name": "stdout",
     "output_type": "stream",
     "text": [
      "120\n"
     ]
    }
   ],
   "source": [
    "temp=1\n",
    "for i in arr:\n",
    "    temp=temp*i\n",
    "print(temp)"
   ]
  },
  {
   "cell_type": "markdown",
   "id": "4172b3f8",
   "metadata": {},
   "source": [
    "## To find the smallest number"
   ]
  },
  {
   "cell_type": "code",
   "execution_count": 32,
   "id": "7c9ac58c",
   "metadata": {},
   "outputs": [
    {
     "name": "stdout",
     "output_type": "stream",
     "text": [
      "The smallest number is:  2\n"
     ]
    }
   ],
   "source": [
    "arr=[12,41,23,4,31,122,34,2,52]\n",
    "temp=arr[0]\n",
    "for i in range(1,len(arr)):\n",
    "    if(arr[i]<temp):\n",
    "        temp=arr[i]\n",
    "print(\"The smallest number is: \",temp)"
   ]
  },
  {
   "cell_type": "markdown",
   "id": "614c73b2",
   "metadata": {},
   "source": [
    "## To print second largest number:"
   ]
  },
  {
   "cell_type": "code",
   "execution_count": 42,
   "id": "b54f73d2",
   "metadata": {},
   "outputs": [
    {
     "data": {
      "text/plain": [
       "44"
      ]
     },
     "execution_count": 42,
     "metadata": {},
     "output_type": "execute_result"
    }
   ],
   "source": [
    "arr=[1,2,3,3,4,5,5,5,21,23,21,44,45,45]\n",
    "arr2=list(set(arr))\n",
    "arr2.sort()\n",
    "arr2[-2]"
   ]
  },
  {
   "cell_type": "markdown",
   "id": "f2708b7c",
   "metadata": {},
   "source": [
    "## To print even/odd numbers between a given range"
   ]
  },
  {
   "cell_type": "code",
   "execution_count": 48,
   "id": "079ea9a4",
   "metadata": {},
   "outputs": [
    {
     "name": "stdout",
     "output_type": "stream",
     "text": [
      "Enter the range of numbers: 20\n",
      "2 4 6 8 10 12 14 16 18 "
     ]
    }
   ],
   "source": [
    "def even(a):\n",
    "    for i in range(1,a):\n",
    "        if(i%2==0):\n",
    "            print(i,end=\" \")\n",
    "a=int(input(\"Enter the range of numbers: \"))\n",
    "even(a)"
   ]
  },
  {
   "cell_type": "code",
   "execution_count": 45,
   "id": "de07fe26",
   "metadata": {},
   "outputs": [
    {
     "name": "stdout",
     "output_type": "stream",
     "text": [
      "1 3 5 7 "
     ]
    }
   ],
   "source": [
    "arr=[1,2,3,4,5,6,7,8]\n",
    "for i in arr:\n",
    "    if(i%2==1):\n",
    "        print(i,end=\" \")"
   ]
  },
  {
   "cell_type": "markdown",
   "id": "f48e0a69",
   "metadata": {},
   "source": [
    "## To print positive and negative numbers in a list"
   ]
  },
  {
   "cell_type": "code",
   "execution_count": 50,
   "id": "e3dbd649",
   "metadata": {},
   "outputs": [
    {
     "name": "stdout",
     "output_type": "stream",
     "text": [
      "Given array:  [21, -4, 9, 0, -4, -11, -41, -32, 65]\n",
      "The positive numbers are: \n",
      "21 9 0 65 "
     ]
    }
   ],
   "source": [
    "arr=[21,-4,9,0,-4,-11,-41,-32,65]\n",
    "print(\"Given array: \",arr)\n",
    "print(\"The positive numbers are: \")\n",
    "for i in arr:\n",
    "    if(i>=0):\n",
    "        print(i,end=\" \")"
   ]
  },
  {
   "cell_type": "code",
   "execution_count": 51,
   "id": "b26e65c0",
   "metadata": {},
   "outputs": [
    {
     "name": "stdout",
     "output_type": "stream",
     "text": [
      "Given array:  [21, -4, 9, 0, -4, -11, -41, -32, 65]\n",
      "The negative numbers are: \n",
      "-4 -4 -11 -41 -32 "
     ]
    }
   ],
   "source": [
    "arr=[21,-4,9,0,-4,-11,-41,-32,65]\n",
    "print(\"Given array: \",arr)\n",
    "print(\"The negative numbers are: \")\n",
    "for i in arr:\n",
    "    if(i<0):\n",
    "        print(i,end=\" \")"
   ]
  },
  {
   "cell_type": "markdown",
   "id": "a065a2ff",
   "metadata": {},
   "source": [
    "## List within list"
   ]
  },
  {
   "cell_type": "code",
   "execution_count": 58,
   "id": "05ab2d9e",
   "metadata": {},
   "outputs": [
    {
     "name": "stdout",
     "output_type": "stream",
     "text": [
      "1 Not present\n",
      "2 Not present\n",
      "[3, 4, 5] Present\n"
     ]
    }
   ],
   "source": [
    "arr=[1,2,[3,4,5]]\n",
    "for i in arr:\n",
    "    if(i==[3,4,5]):\n",
    "        print(i,\"Present\")\n",
    "    else:\n",
    "        print(i,\"Not present\")"
   ]
  },
  {
   "cell_type": "code",
   "execution_count": null,
   "id": "36c94ca4",
   "metadata": {},
   "outputs": [],
   "source": []
  },
  {
   "cell_type": "code",
   "execution_count": null,
   "id": "7752b018",
   "metadata": {},
   "outputs": [],
   "source": []
  }
 ],
 "metadata": {
  "kernelspec": {
   "display_name": "Python 3 (ipykernel)",
   "language": "python",
   "name": "python3"
  },
  "language_info": {
   "codemirror_mode": {
    "name": "ipython",
    "version": 3
   },
   "file_extension": ".py",
   "mimetype": "text/x-python",
   "name": "python",
   "nbconvert_exporter": "python",
   "pygments_lexer": "ipython3",
   "version": "3.8.5"
  }
 },
 "nbformat": 4,
 "nbformat_minor": 5
}
